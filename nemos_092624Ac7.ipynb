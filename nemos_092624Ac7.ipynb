{
 "cells": [
  {
   "cell_type": "code",
   "execution_count": 68,
   "metadata": {},
   "outputs": [],
   "source": [
    "import numpy as np\n",
    "import nemos as nmo\n",
    "import pandas as pd\n",
    "import matplotlib.pyplot as plt"
   ]
  },
  {
   "cell_type": "code",
   "execution_count": 69,
   "metadata": {},
   "outputs": [
    {
     "data": {
      "text/plain": [
       "array([{'file_name': '092624A', 'source_id': 3, 'epoch_group_id': 7, 'epoch_block_id': 24, 'epoch_id': 282, 'channel_name': 'Amp1', 'antialias': 'T', 'color_noise_mode': '1 pattern', 'color_noise_distribution': 'gaussian', 'frame_dwell': 10, 'number_of_epochs': 1, 'pre_time': 500.0, 'resolution_x': 1, 'resolution_y': 1, 'rstar_mean': 655.4, 'seed_change_mode': 'increment only', 'seed_start_value': 1, 'size_x': 2000.0, 'size_y': 2000.0, 'stim_time': 100000.0, 'tail_time': 500.0, 'contrast_1': 1.0, 'contrast_2': 0.0, 'mean_level_1': 0.1, 'mean_level_2': 0.0, 'subsample_x': 1, 'subsample_y': 1, 'offset_seed': 4294967295, 'noise_seed': 1, 'spike_indices': array([[   5368,    5788,    6152,    6453,    6774,    7117,    7455,\n",
       "                  7785,    8098,    8452,    8810,    9222,    9670,   10133,\n",
       "                 10537,   10979,   11468,   11928,   12441,   12900,   13421,\n",
       "                 13930,   14469,   14980,   15458,   15964,   16451,   16882,\n",
       "                 17465,   18067,   18566,   19137,   19715,   20412,   21188,\n",
       "                 21908,   22637,   23168,   24159,   24857,   25471,   26246,\n",
       "                 27212,   28105,   28896,   29722,   30572,   31869,   33098,\n",
       "                 35444,   37791,   38665,   39606,   40779,   42286,   43543,\n",
       "                 44398,   45857,   48177,   49424,   67402,   74524,   75339,\n",
       "                 76481,   77942,   78961,   79645,   80920,   81992,   84011,\n",
       "                 85639,   88157,   89618,   90826,   91814,   92977,   94517,\n",
       "                 96137,   97997,   99765,  102110,  105096,  106785,  108247,\n",
       "                112396,  113607,  124970,  126071,  127510,  130200,  142005,\n",
       "                142734,  144058,  145509,  149561,  159173,  161685,  182203,\n",
       "                182731,  183591,  184101,  184712,  185484,  186574,  187782,\n",
       "                189123,  190143,  191771,  193997,  196088,  198609,  206505,\n",
       "                209120,  211035,  212980,  218812,  223565,  226448,  252296,\n",
       "                253445,  254674,  256049,  257106,  258266,  259827,  261083,\n",
       "                262548,  264517,  281545,  282870,  284325,  286631,  290813,\n",
       "                317946,  323066,  325991,  347361,  371961,  390236,  392878,\n",
       "                395420,  430607,  431264,  432083,  432470,  433393,  434254,\n",
       "                434871,  435607,  436700,  439156,  456942,  459093,  461371,\n",
       "                477377,  479277,  480993,  493967,  495497,  497164,  500410,\n",
       "                501710,  524332,  526142,  527292,  529763,  551980,  553454,\n",
       "                555372,  556976,  559014,  562357,  594353,  616757,  617739,\n",
       "                618775,  619734,  620936,  621836,  642973,  644167,  645659,\n",
       "                646537,  659328,  662982,  717223,  718470,  719486,  721150,\n",
       "                723120,  751743,  753773,  756906,  771210,  793089,  794138,\n",
       "                795551,  797549,  801624,  818445,  821236,  841066,  844402,\n",
       "                884786,  886871,  890467,  899227,  918245,  921047,  922782,\n",
       "                929667,  943099,  945583,  949360,  952099,  962073, 1010123,\n",
       "               1011274, 1012110, 1012947, 1013738, 1014891, 1015724, 1016612,\n",
       "               1018314, 1019768, 1023223, 1028665, 1034449, 1043268, 1071220,\n",
       "               1073750, 1077281, 1103577, 1105758, 1118242, 1120192, 1121278,\n",
       "               1122494, 1125670, 1135341, 1140188, 1206719, 1207665, 1208397,\n",
       "               1208871, 1209569, 1210228, 1210977, 1212142, 1213189, 1214347,\n",
       "               1215724, 1217176, 1218198, 1222247, 1242011, 1243166, 1244441,\n",
       "               1246241, 1248827, 1280249, 1295575, 1299023, 1301386, 1302617,\n",
       "               1305296, 1308494, 1336792, 1373289, 1374676, 1376404, 1378964,\n",
       "               1380777, 1381384, 1384282, 1411606, 1441595, 1444488, 1483509,\n",
       "               1484280, 1485557, 1500037, 1524257, 1526314, 1529181, 1548074,\n",
       "               1552086, 1585066, 1587259, 1589233, 1591731, 1593975, 1600687,\n",
       "               1634147, 1635268, 1636451, 1638296, 1640978, 1642743, 1646650,\n",
       "               1719719, 1776878, 1778480, 1780074, 1792647, 1794122, 1795872,\n",
       "               1796898, 1798322, 1800721, 1803389, 1842736, 1843775, 1844195,\n",
       "               1845337, 1858263, 1861504, 1939252, 1961710, 1969299, 1974435,\n",
       "               1977178, 2025719, 2043775, 2056533, 2098836, 2127978, 2134254,\n",
       "               2234711, 2250191, 2251655, 2253045, 2300290, 2305100, 2308375,\n",
       "               2342915, 2348258, 2357199, 2430306, 2450441, 2451176, 2452487,\n",
       "               2453573, 2455781, 2467976, 2471296, 2472346, 2533371, 2535417,\n",
       "               2537277, 2538446, 2552628, 2554397, 2592760, 2593841, 2595756,\n",
       "               2597280, 2599636, 2602726, 2627544, 2629466, 2632357, 2670069,\n",
       "               2674441, 2730601, 2752603, 2754469, 2775698, 2780839, 2782644,\n",
       "               2883295, 2912149, 2926186, 2950038, 2976702, 2978037, 2979292,\n",
       "               3020538, 3050385, 3051383, 3052225, 3053171, 3054213, 3055839,\n",
       "               3075268, 3077706, 3079317, 3123053, 3123731, 3129627, 3158348,\n",
       "               3161470, 3165165, 3193800, 3203244, 3230634, 3233998, 3236371,\n",
       "               3302062, 3350169, 3352932, 3369506, 3370911, 3372753, 3373724,\n",
       "               3375397, 3376779, 3378408, 3388690, 3475945, 3476506, 3477398,\n",
       "               3479010, 3481864, 3499784, 3500786, 3501203, 3502195, 3503679,\n",
       "               3505074, 3505816, 3507957, 3514076, 3516785, 3518038, 3520887,\n",
       "               3544977, 3558908, 3610916, 3633353, 3642942, 3645260, 3646619,\n",
       "               3649740, 3651028, 3688209, 3693993, 3696034, 3697691, 3698989,\n",
       "               3701435, 3705706, 3711807, 3740573, 3774777, 3775945, 3776696,\n",
       "               3777751, 3779230, 3801392, 3802689, 3804589, 3904672, 3939303,\n",
       "               4015508, 4016752, 4019561, 4021325, 4050283, 4052512, 4055862,\n",
       "               4129089, 4181390, 4207578, 4209361, 4216344, 4245630, 4253777,\n",
       "               4260792, 4278524, 4325809, 4349164, 4357695, 4415828, 4422210,\n",
       "               4459312, 4462197, 4479512, 4507361, 4509313, 4550855, 4554062,\n",
       "               4556070, 4588442, 4590775, 4591917, 4594843, 4668313, 4722596,\n",
       "               4754698, 4772804, 4799999, 4812058, 4834671, 4837935, 4900446,\n",
       "               4901455, 4902456, 4903721, 4905716, 4907216, 4908920, 4911369,\n",
       "               4942545, 4944190, 4945516, 4948002, 4950411, 5012722, 5028685,\n",
       "               5030910, 5034505]], dtype=uint32), 'spike_count': 513, 'sample_rate': 50000.0, 'ndf': 3, 'bit_depth': 8, 'frame_rate': 60, 'offset_x': Decimal('-60'), 'offset_y': Decimal('10'), 'subsample_t': 50}                                                                                                                                                                                                                                                                                                                                                                                                                                                                                                                                       ,\n",
       "       {'file_name': '092624A', 'source_id': 3, 'epoch_group_id': 7, 'epoch_block_id': 25, 'epoch_id': 283, 'channel_name': 'Amp1', 'antialias': 'T', 'color_noise_mode': '1 pattern', 'color_noise_distribution': 'gaussian', 'frame_dwell': 10, 'number_of_epochs': 1, 'pre_time': 500.0, 'resolution_x': 1, 'resolution_y': 1, 'rstar_mean': 655.4, 'seed_change_mode': 'increment only', 'seed_start_value': 1, 'size_x': 2000.0, 'size_y': 2000.0, 'stim_time': 100000.0, 'tail_time': 500.0, 'contrast_1': 1.0, 'contrast_2': 0.0, 'mean_level_1': 0.1, 'mean_level_2': 0.0, 'subsample_x': 1, 'subsample_y': 1, 'offset_seed': 4294967295, 'noise_seed': 1, 'spike_indices': array([[  16282,   33320,   37339,   47411,   73079,   85970,   92670,\n",
       "                 95160,   96456,  126698,  129171,  178121,  184881,  186711,\n",
       "                188835,  190427,  192381,  219677,  256341,  257702,  259944,\n",
       "                262023,  287553,  320573,  346490,  356847,  382090,  397649,\n",
       "                432662,  434055,  435857,  437586,  439955,  475249,  478581,\n",
       "                494171,  499235,  504867,  526934,  555247,  560957,  563172,\n",
       "                576424,  619859,  620992,  645715,  660872,  711559,  718781,\n",
       "                723008,  739435,  754955,  758430,  789950,  796724,  798950,\n",
       "                844939,  862558,  884492,  888879,  891776,  947380,  956132,\n",
       "                985081, 1000546, 1014633, 1016246, 1017480, 1018234, 1019334,\n",
       "               1021115, 1037223, 1069498, 1077401, 1115882, 1121881, 1123902,\n",
       "               1137081, 1142028, 1185653, 1201391, 1208946, 1210128, 1210980,\n",
       "               1212121, 1212788, 1213693, 1215226, 1216329, 1218116, 1219778,\n",
       "               1243523, 1245679, 1249584, 1251911, 1276511, 1301020, 1310418,\n",
       "               1374799, 1381683, 1384925, 1389471, 1421488, 1441484, 1450409,\n",
       "               1486519, 1504582, 1507943, 1526133, 1548820, 1554574, 1588852,\n",
       "               1592346, 1633713, 1638060, 1640355, 1641485, 1642947, 1649163,\n",
       "               1719851, 1771730, 1777320, 1782268, 1794102, 1795645, 1796766,\n",
       "               1798356, 1800230, 1843475, 1844963, 1846934, 1861713, 1865329,\n",
       "               1934246, 1952587, 1965900, 1979969, 1999167, 2022223, 2055718,\n",
       "               2058844, 2128029, 2129417, 2146667, 2188538, 2236353, 2252030,\n",
       "               2283734, 2298699, 2302575, 2309754, 2326954, 2343870, 2366801,\n",
       "               2422346, 2427404, 2448673, 2452356, 2454028, 2456834, 2470527,\n",
       "               2472343, 2510894, 2535898, 2537566, 2548526, 2551962, 2553917,\n",
       "               2596975, 2600300, 2604032, 2621935, 2628173, 2629584, 2632564,\n",
       "               2665846, 2673639, 2697952, 2735011, 2749376, 2752470, 2777893,\n",
       "               2780230, 2784115, 2787093, 2809637, 2841604, 2882814, 2928775,\n",
       "               2946814, 2948033, 2978594, 2979712, 2991092, 3036843, 3050127,\n",
       "               3050809, 3051817, 3052897, 3054267, 3075201, 3078525, 3085482,\n",
       "               3128026, 3160494, 3162380, 3166379, 3202643, 3204721, 3230232,\n",
       "               3233181, 3235246, 3258039, 3349166, 3353563, 3370509, 3371536,\n",
       "               3373734, 3375432, 3377346, 3381229, 3391410, 3411964, 3428556,\n",
       "               3455670, 3476789, 3478298, 3480587, 3500760, 3501894, 3503191,\n",
       "               3504088, 3504958, 3507170, 3515563, 3517062, 3523288, 3559997,\n",
       "               3565493, 3608978, 3613288, 3628561, 3642988, 3644411, 3646657,\n",
       "               3648748, 3654930, 3693726, 3696305, 3697672, 3698659, 3701641,\n",
       "               3703877, 3706171, 3762026, 3773201, 3775307, 3776349, 3777792,\n",
       "               3778860, 3800602, 3802408, 3804141, 3860803, 3876406, 3900153,\n",
       "               3936053, 3937062, 3938376, 4013322, 4015733, 4017909, 4022073,\n",
       "               4050864, 4054697, 4060343, 4126477, 4128242, 4130758, 4145199,\n",
       "               4205734, 4210180, 4213132, 4245845, 4259351, 4322531, 4326402,\n",
       "               4330366, 4350993, 4369002, 4412763, 4416388, 4417106, 4420367,\n",
       "               4434111, 4461534, 4479749, 4508505, 4554925, 4585269, 4590213,\n",
       "               4592055, 4594299, 4595969, 4616280, 4619810, 4643978, 4664414,\n",
       "               4666539, 4712636, 4718120, 4746375, 4749804, 4754592, 4759083,\n",
       "               4783392, 4788496, 4810913, 4814536, 4821473, 4826768, 4830201,\n",
       "               4832452, 4834595, 4836866, 4849043, 4850797, 4853667, 4856209,\n",
       "               4860319, 4865641, 4868102, 4871685, 4875222, 4882086, 4898587,\n",
       "               4900496, 4902060, 4902723, 4903688, 4904769, 4906585, 4908279,\n",
       "               4909823, 4911349, 4943597, 4946319, 4947304, 4948639, 4951096,\n",
       "               4955482, 4976308, 4983186, 5013413, 5015797, 5018003, 5020118,\n",
       "               5022100, 5024366, 5026049, 5027314, 5029244, 5031107, 5033383,\n",
       "               5037622, 5041371, 5043963, 5046940, 5049252]], dtype=uint32), 'spike_count': 369, 'sample_rate': 50000.0, 'ndf': 3, 'bit_depth': 8, 'frame_rate': 60, 'offset_x': Decimal('-60'), 'offset_y': Decimal('10'), 'subsample_t': 50}                                                                                                                                                                                                                                                                                                                                                                                                                                                                                                            ],\n",
       "      dtype=object)"
      ]
     },
     "execution_count": 69,
     "metadata": {},
     "output_type": "execute_result"
    }
   ],
   "source": [
    "sn_data = np.load('092624Ac7_spatial_noise.npy',allow_pickle=True)\n",
    "sn_data"
   ]
  },
  {
   "cell_type": "code",
   "execution_count": 70,
   "metadata": {},
   "outputs": [],
   "source": [
    "sn_data = pd.DataFrame.from_dict(sn_data)\n",
    "sn_data = pd.json_normalize(sn_data[0])\n",
    "sn_data['spike_indices'] = sn_data['spike_indices'].apply(lambda x: x[0] if isinstance(x, list) else x)\n",
    "# # Explode spike_indices\n",
    "sn_data = sn_data.explode('spike_indices').reset_index(drop=True)\n",
    "# Adjust spike times with pre_time and filter for those within stim_time\n",
    "sn_data['spike_times'] = sn_data.apply(\n",
    "    lambda row: [((index / row['sample_rate']) - (row['pre_time'] / 1000.0))\n",
    "                 for index in row['spike_indices'] \n",
    "                 if (0 <= ((index / row['sample_rate']) - (row['pre_time'] / 1000.0)) <= (row['stim_time'] / 1000.0))]\n",
    "                 if row['spike_indices'] is not None else None,\n",
    "    axis=1\n",
    ")"
   ]
  },
  {
   "cell_type": "code",
   "execution_count": 71,
   "metadata": {},
   "outputs": [],
   "source": [
    "def getMovie(attrs):\n",
    "    \n",
    "    # noiseGen = np.random.Generator(np.random.MT19937(seed=int(attrs['noise_seed'])))\n",
    "    # offsetGen = np.random.Generator(np.random.MT19937(seed=int(attrs['offset_seed'])))\n",
    "    noiseGen = np.random.RandomState(seed=int(attrs['noise_seed']))\n",
    "    offsetGen = np.random.RandomState(seed=int(attrs['offset_seed']))\n",
    "    \n",
    "    nFrames = int(attrs['frame_rate'] * (attrs['pre_time'] + attrs['stim_time'] + attrs['tail_time']) / 1000)\n",
    "    preFrames = int(attrs['frame_rate'] * attrs['pre_time'] / 1000)\n",
    "\n",
    "    res = (int(attrs['resolution_y']), int(attrs['resolution_x']))\n",
    "    subsample = (int(attrs['subsample_y']), int(attrs['subsample_x']))\n",
    "\n",
    "    # mov = np.empty((nFrames, *res))\n",
    "    tmp = np.empty(res)\n",
    "    mov = np.empty((nFrames, res[0]*subsample[0], res[1]*subsample[1]))\n",
    "\n",
    "    ct = attrs['contrast_1'] * attrs['mean_level_1']\n",
    "\n",
    "    if attrs['color_noise_distribution'] == 'binary':\n",
    "        noiseFn = lambda x,y: 2 * (noiseGen.rand(x,y) > 0.5) - 1\n",
    "    elif attrs['color_noise_distribution'] == 'gaussian':\n",
    "        noiseFn = lambda x,y: noiseGen.randn(x,y)\n",
    "    elif attrs['color_noise_distribution'] == 'uniform':\n",
    "        noiseFn = lambda x,y: 2 * noiseGen.rand(x,y) - 1\n",
    "\n",
    "    for frame in np.arange(nFrames):\n",
    "        if frame  - preFrames < 0:\n",
    "            mov[frame] = np.clip(attrs['mean_level_1'], 0.0, 1.0)\n",
    "        elif frame % attrs['frame_dwell']:\n",
    "            mov[frame] = mov[frame - 1]\n",
    "        else:\n",
    "            # mov[frame] = np.clip(attrs['meanLevel'] + ct * noiseFn(*res), 0.0, min(2*attrs['meanLevel'], 1.0))\n",
    "            tmp = np.clip(attrs['mean_level_1'] + ct * noiseFn(*res), 0.0, min(2*attrs['mean_level_1'], 1.0))\n",
    "            \n",
    "            # p = np.asarray((offsetGen.randint(1,2*attrs['subsampleX'] - 1, 1) - attrs['subsampleX'], offsetGen.randint(1,2*attrs['subsampleY'] - 1, 1) - attrs['subsampleY'])).flatten()\n",
    "            p = (np.ceil(offsetGen.rand()*(2*attrs['subsample_x'] - 1) - attrs['subsample_x']).astype(int), -np.ceil(offsetGen.rand()*(2*attrs['subsample_y'] - 1) - attrs['subsample_y']).astype(int))\n",
    "            # print(p)\n",
    "            # p = [p[0], -p[1]]\n",
    "            # p = [0,0]\n",
    "\n",
    "            # print(tmp.shape)\n",
    "            # print(frame, p, np.tile(tmp[:,None,:,None], (1,subsample[0],1,subsample[1])).reshape(mov.shape[1:]).shape)\n",
    "\n",
    "            mov[frame] = np.tile(tmp[:,None,:,None], (1,subsample[0],1,subsample[1])).reshape(mov.shape[1:])\n",
    "            mov[frame] = np.roll(mov[frame], p[0], axis=0)\n",
    "            mov[frame] = np.roll(mov[frame], p[1], axis=1)\n",
    "\n",
    "            if p[0] >= 0:\n",
    "                mov[frame,:p[0],:] = attrs['mean_level_1']\n",
    "            else:\n",
    "                mov[frame,p[0]:,:] = attrs['mean_level_1']\n",
    "            \n",
    "            if p[1] >= 0:\n",
    "                mov[frame,:,:p[1]] = attrs['mean_level_1']\n",
    "            else:\n",
    "                mov[frame,:,p[1]:] = attrs['mean_level_1']\n",
    "            \n",
    "    return np.tile(mov[:,None, :, :], (1,attrs['subsample_t'], 1, 1)).reshape((-1, *mov.shape[1:]))\n",
    "trial = sn_data.iloc[1] \n",
    " # Let's use the first trial as training data\n",
    "mov = getMovie(trial)"
   ]
  },
  {
   "cell_type": "code",
   "execution_count": 72,
   "metadata": {},
   "outputs": [
    {
     "name": "stdout",
     "output_type": "stream",
     "text": [
      "Original stim shape: (303000,)\n",
      "stim_times shape: (303000,)\n",
      "spike_times shape: (369,)\n"
     ]
    }
   ],
   "source": [
    "def vectors(mov,trial):\n",
    "    spike_times = trial['spike_indices'].flatten()/trial['sample_rate']\n",
    "    frame_rate = trial['frame_rate']\n",
    "    dwell = trial['frame_dwell']\n",
    "    stim = []\n",
    "\n",
    "    for frame in np.arange(len(mov)):\n",
    "        frame_value = mov[frame].squeeze()\n",
    "        stim.append(frame_value)\n",
    "    stim = np.array(stim)\n",
    "    stim_times = np.arange(len(stim)) / (frame_rate*trial['subsample_t'])  # Time points for each frame\n",
    "    stim_times = stim_times - trial['pre_time'] / 1000.0\n",
    "    return stim, stim_times, spike_times\n",
    "\n",
    "\n",
    "stim,stim_times,spike_times = vectors(mov,trial)\n",
    "print(\"Original stim shape:\", stim.shape)  # (303000,)\n",
    "print(\"stim_times shape:\", stim_times.shape)  # (303000,)\n",
    "print(\"spike_times shape:\", spike_times.shape)  # (369,)\n"
   ]
  },
  {
   "cell_type": "code",
   "execution_count": 73,
   "metadata": {},
   "outputs": [
    {
     "name": "stdout",
     "output_type": "stream",
     "text": [
      "Stim with time shape: (301500, 2)\n",
      "First few rows of stim with time:\n",
      " [[0.         0.2       ]\n",
      " [0.00033333 0.2       ]\n",
      " [0.00066667 0.2       ]\n",
      " [0.001      0.2       ]\n",
      " [0.00133333 0.2       ]]\n"
     ]
    }
   ],
   "source": [
    "\n",
    "# Reshape stim to ensure it's two-dimensional (n_time_bins, 1)\n",
    "stim = stim.reshape(-1, 1)\n",
    "\n",
    "# Add time information to stim by concatenating stim_times as the first column\n",
    "stim_with_time = np.hstack((stim_times.reshape(-1, 1), stim))\n",
    "stim_with_time = stim_with_time[stim_with_time[:, 0] >= 0]\n",
    "# Print the new shape of stim to confirm it's now two-dimensional\n",
    "print(\"Stim with time shape:\", stim_with_time.shape)  # Should be (303000, 2)\n",
    "print(\"First few rows of stim with time:\\n\", stim_with_time[:5])\n",
    "\n"
   ]
  },
  {
   "cell_type": "code",
   "execution_count": 74,
   "metadata": {},
   "outputs": [
    {
     "name": "stdout",
     "output_type": "stream",
     "text": [
      "Filtered stim_with_time shape: (301500, 2)\n",
      "Spike counts shape: (301500,)\n",
      "Unique spike counts: [0 1]\n",
      "First few rows of stim_with_time and spike counts:\n",
      " [[0.         0.2       ]\n",
      " [0.00033333 0.2       ]\n",
      " [0.00066667 0.2       ]\n",
      " [0.001      0.2       ]\n",
      " [0.00133333 0.2       ]] [0 0 0 0 0]\n"
     ]
    }
   ],
   "source": [
    "# Assuming stim, stim_times, and spike_times are already defined and reshaped\n",
    "stim, stim_times, spike_times = vectors(mov, trial)\n",
    "\n",
    "# Reshape stim to be two-dimensional (n_time_bins, 1) and add time information\n",
    "stim = stim.reshape(-1, 1)\n",
    "stim_with_time = np.hstack((stim_times.reshape(-1, 1), stim))\n",
    "\n",
    "# Filter to keep only rows where time is >= 0\n",
    "stim_with_time = stim_with_time[stim_with_time[:, 0] >= 0]\n",
    "\n",
    "# Define the bin edges using the time values from stim_with_time\n",
    "bin_edges = np.append(stim_with_time[:, 0], stim_with_time[-1, 0] + (stim_with_time[1, 0] - stim_with_time[0, 0]))\n",
    "\n",
    "# Bin the spike times using the defined bin edges\n",
    "spike_counts, _ = np.histogram(spike_times, bins=bin_edges)\n",
    "\n",
    "# Print the shapes to confirm they match\n",
    "print(\"Filtered stim_with_time shape:\", stim_with_time.shape)  # Should match the number of time bins\n",
    "print(\"Spike counts shape:\", spike_counts.shape)  # Should be the same as n_time_bins\n",
    "\n",
    "# Check the unique values to ensure there are spikes counted\n",
    "print(\"Unique spike counts:\", np.unique(spike_counts))\n",
    "\n",
    "# Optional: print first few rows to verify alignment\n",
    "print(\"First few rows of stim_with_time and spike counts:\\n\", stim_with_time[:5], spike_counts[:5])\n"
   ]
  },
  {
   "cell_type": "code",
   "execution_count": 75,
   "metadata": {},
   "outputs": [],
   "source": [
    "window_size = 100\n",
    "basis = nmo.basis.RaisedCosineBasisLog(8, mode=\"conv\", window_size=window_size)\n",
    "convolved_input = basis.compute_features(stim_with_time)"
   ]
  },
  {
   "cell_type": "code",
   "execution_count": 76,
   "metadata": {},
   "outputs": [
    {
     "data": {
      "text/plain": [
       "<nemos.glm.GLM at 0x1df582977a0>"
      ]
     },
     "execution_count": 76,
     "metadata": {},
     "output_type": "execute_result"
    }
   ],
   "source": [
    "model = nmo.glm.GLM(solver_name=\"LBFGS\")\n",
    "model.fit(convolved_input, spike_counts)"
   ]
  },
  {
   "cell_type": "code",
   "execution_count": 77,
   "metadata": {},
   "outputs": [],
   "source": [
    "bin_size = stim_times[1] - stim_times[0]\n",
    "time, basis_kernels = basis.evaluate_on_grid(window_size)\n",
    "time *= bin_size * window_size"
   ]
  },
  {
   "cell_type": "code",
   "execution_count": 78,
   "metadata": {},
   "outputs": [
    {
     "name": "stdout",
     "output_type": "stream",
     "text": [
      "Model coefficients shape: (16,)\n",
      "Basis kernels shape: (100, 8)\n",
      "Error: operands could not be broadcast together with remapped shapes [original->remapped]: (16,)->(16) (100,8)->(100,8) \n",
      "Adjusted coefficients shape: (8,)\n"
     ]
    },
    {
     "data": {
      "image/png": "[encoded data removed]",
      "text/plain": [
       "<Figure size 640x480 with 1 Axes>"
      ]
     },
     "metadata": {},
     "output_type": "display_data"
    }
   ],
   "source": [
    "# Check shapes of the operands\n",
    "print(\"Model coefficients shape:\", model.coef_.shape)  # Should match the number of basis functions\n",
    "print(\"Basis kernels shape:\", basis_kernels.shape)     # Should correspond to the time points and basis functions\n",
    "\n",
    "# Correct the einsum operation based on correct alignment\n",
    "try:\n",
    "    temp_weights = np.einsum('b, tb -> t', model.coef_, basis_kernels)\n",
    "except ValueError as e:\n",
    "    print(f\"Error: {e}\")\n",
    "\n",
    "# If there's a mismatch, double-check the alignment between model coefficients and basis functions\n",
    "# If model.coef_ has extra dimensions, consider using only the relevant parts:\n",
    "if model.coef_.shape[0] != basis_kernels.shape[1]:\n",
    "    # Adjust coefficients to match the number of basis functions if needed\n",
    "    model_coef_adjusted = model.coef_[:basis_kernels.shape[1]]\n",
    "    temp_weights = np.einsum('b, tb -> t', model_coef_adjusted, basis_kernels)\n",
    "    print(\"Adjusted coefficients shape:\", model_coef_adjusted.shape)\n",
    "else:\n",
    "    temp_weights = np.einsum('b, tb -> t', model.coef_, basis_kernels)\n",
    "\n",
    "# Plotting the results\n",
    "plt.plot(time, temp_weights)\n",
    "plt.xlabel(\"time [sec]\")\n",
    "plt.ylabel(\"amplitude\")\n",
    "plt.title(\"Temporal Weights vs. Time\")\n",
    "plt.show()\n"
   ]
  },
  {
   "cell_type": "code",
   "execution_count": 79,
   "metadata": {},
   "outputs": [
    {
     "data": {
      "text/plain": [
       "Array(0.00020869, dtype=float32)"
      ]
     },
     "execution_count": 79,
     "metadata": {},
     "output_type": "execute_result"
    }
   ],
   "source": [
    "model.score(convolved_input, spike_counts, score_type='pseudo-r2-Cohen')"
   ]
  },
  {
   "cell_type": "markdown",
   "metadata": {},
   "source": [
    "## Spike history filter"
   ]
  },
  {
   "cell_type": "code",
   "execution_count": 80,
   "metadata": {},
   "outputs": [
    {
     "name": "stdout",
     "output_type": "stream",
     "text": [
      "Number of bins (spike counts): (100500,)\n",
      "First few spike counts: [0 0 0 0 0 0 0 0 0 0]\n",
      "Unique spike counts: [0 1]\n"
     ]
    }
   ],
   "source": [
    "import pynapple as nap\n",
    "\n",
    "# Assuming spike_times are in seconds and you want to bin them with 1 ms resolution\n",
    "start_time = stim_with_time[0, 0]  # Start time of stim_with_time\n",
    "end_time = stim_with_time[-1, 0]   # End time of stim_with_time\n",
    "\n",
    "# Create bin edges with 1 ms resolution (0.001 seconds)\n",
    "bin_size = 0.001  # 1 ms in seconds\n",
    "bin_edges = np.arange(start_time, end_time + bin_size, bin_size)  # Create bins from start to end with 1 ms intervals\n",
    "\n",
    "# Bin the spike times using the defined 1 ms bin edges\n",
    "spike_counts, _ = np.histogram(spike_times, bins=bin_edges)\n",
    "\n",
    "# Print the shapes to confirm they match\n",
    "print(\"Number of bins (spike counts):\", spike_counts.shape)  # Number of bins should correspond to the range / 1 ms\n",
    "print(\"First few spike counts:\", spike_counts[:10])  # Preview the first few spike counts\n",
    "print(\"Unique spike counts:\", np.unique(spike_counts))  # Check unique values in the spike counts\n"
   ]
  },
  {
   "cell_type": "code",
   "execution_count": 81,
   "metadata": {},
   "outputs": [],
   "source": [
    "window_size_sec = 0.8\n",
    "window_size = int(window_size_sec * 50000)\n",
    "input_feature = nmo.convolve.create_convolutional_predictor(\n",
    "    np.eye(window_size), spike_counts)"
   ]
  },
  {
   "cell_type": "code",
   "execution_count": null,
   "metadata": {},
   "outputs": [],
   "source": [
    "model.fit(\n",
    "    input_feature,spike_counts\n",
    ")"
   ]
  },
  {
   "cell_type": "code",
   "execution_count": null,
   "metadata": {},
   "outputs": [],
   "source": [
    "# a basis object can be instantiated in \"conv\" mode for convolving  the input.\n",
    "basis = nmo.basis.RaisedCosineBasisLog(\n",
    "    n_basis_funcs=8, mode=\"conv\", window_size=window_size\n",
    ")\n",
    "\n",
    "# `basis.evaluate_on_grid` is a convenience method to view all basis functions\n",
    "# across their whole domain:\n",
    "time, basis_kernels = basis.evaluate_on_grid(window_size)\n",
    "\n",
    "print(basis_kernels.shape)\n",
    "\n",
    "# time takes equi-spaced values between 0 and 1, we could multiply by the\n",
    "# duration of our window to scale it to seconds.\n",
    "time *= window_size_sec"
   ]
  }
 ],
 "metadata": {
  "kernelspec": {
   "display_name": "nemos",
   "language": "python",
   "name": "python3"
  },
  "language_info": {
   "codemirror_mode": {
    "name": "ipython",
    "version": 3
   },
   "file_extension": ".py",
   "mimetype": "text/x-python",
   "name": "python",
   "nbconvert_exporter": "python",
   "pygments_lexer": "ipython3",
   "version": "3.12.5"
  }
 },
 "nbformat": 4,
 "nbformat_minor": 2
}
